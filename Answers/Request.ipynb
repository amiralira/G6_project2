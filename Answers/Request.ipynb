{
 "cells": [
  {
   "cell_type": "markdown",
   "metadata": {},
   "source": [
    "<h1 align=center style=\"line-height:200%;font-family:vazir;color:#0099cc\">\n",
    "<font face=\"vazir\" color=\"#0099cc\">\n",
    " درخواست کارفرمایان</font>\n",
    "</h1>"
   ]
  },
  {
   "cell_type": "markdown",
   "metadata": {},
   "source": [
    "<h3 align=left style=\"line-height:200%;font-family:vazir;color:#0099cc\">\n",
    "<font face=\"vazir\" color=\"#0099cc\">\n",
    "Load DataFrame & Library:\n",
    "</h3>"
   ]
  },
  {
   "cell_type": "code",
   "execution_count": 4,
   "metadata": {},
   "outputs": [],
   "source": [
    "import numpy as np\n",
    "import pandas as pd\n",
    "from sqlalchemy import create_engine\n",
    "from urllib.parse import quote_plus\n",
    "from jdatetime import datetime\n",
    "from scipy.stats import ttest_ind\n",
    "import statsmodels.api as sm\n",
    "from sklearn.model_selection import train_test_split\n",
    "from sklearn.linear_model import LinearRegression\n",
    "from sklearn.metrics import mean_squared_error\n",
    "from sklearn.preprocessing import LabelEncoder\n",
    "from sklearn.preprocessing import OneHotEncoder\n",
    "from sklearn.compose import ColumnTransformer\n",
    "from sklearn.feature_extraction import FeatureHasher\n",
    "from sklearn.ensemble import RandomForestRegressor\n",
    "import re\n",
    "from scipy.stats import f_oneway\n",
    "from statsmodels.stats.multicomp import pairwise_tukeyhsd\n",
    "\n",
    "file_dir = \"sales_data.csv\"\n",
    "file_dir2 = \"dollar_price.csv\"\n",
    "file_dir3 = \"country-cities-data.csv\"\n",
    "pd.set_option(\"display.max_colwidth\", None)"
   ]
  },
  {
   "cell_type": "code",
   "execution_count": 5,
   "metadata": {},
   "outputs": [],
   "source": [
    "\n",
    "df = pd.read_csv(file_dir, low_memory=False)\n",
    "df[\"Screen_Size\"] = df[\"Screen_Size\"].str.replace('\"', \"\").astype(float)\n",
    "df[\"RAM\"] = df[\"RAM\"].str.replace(\"GB\", \"\").astype(int)\n",
    "df[\"Weight\"] = df[\"Weight\"].replace([\"kgs\", \"kg\"], \"\", regex=True).astype(float)\n",
    "\n",
    "df[\"Date_Shamsi\"] = df[\"Order_Date\"].copy()\n",
    "df[\"Order_Date\"] = df[\"Order_Date\"].apply(\n",
    "    lambda x: datetime.strptime(x, \"%Y-%m-%d\").togregorian()\n",
    ")\n",
    "\n",
    "df_dollar_price = pd.read_csv(file_dir2, index_col=[0])\n",
    "df_dollar_price[\"miladi\"] = pd.to_datetime(df_dollar_price[\"miladi\"])\n",
    "\n",
    "df = pd.merge(\n",
    "    df,\n",
    "    df_dollar_price,\n",
    "    how=\"left\",\n",
    "    left_on=\"Order_Date\",\n",
    "    right_on=\"miladi\",\n",
    ")\n",
    "df.drop(columns=[\"miladi\", \"shamsi\"], inplace=True)\n",
    "df.rename(columns={\"close_price\": \"Dollar_Price\"}, inplace=True)"
   ]
  },
  {
   "cell_type": "markdown",
   "metadata": {},
   "source": [
    "<h3 align=left style=\"line-height:200%;font-family:vazir;color:#0099cc\">\n",
    "<font face=\"vazir\" color=\"#0099cc\">\n",
    "Request 6 \n",
    "</h3>"
   ]
  },
  {
   "cell_type": "markdown",
   "metadata": {},
   "source": [
    "<p dir=rtl style=\"direction: rtl;text-align: justify;line-height:200%;font-family:vazir;font-size:medium\">\n",
    "<font face=\"vazir\" size=3>\n",
    "شرکت برنامه دارد تا به صورت ماهیانه، بار وارد کشور کند و برای همین می‌خواهد بداند، آیا میزان فروش در ماه‌های مختلف تفاوتی دارد؟\n",
    "<br>\n",
    " در صورت وجود تفاوت به چه نحوی بودجه‌ی سالیانه خود را بین این ماه‌ها تقسیم کند؟\n",
    "</p>"
   ]
  },
  {
   "cell_type": "code",
   "execution_count": null,
   "metadata": {},
   "outputs": [],
   "source": []
  },
  {
   "cell_type": "code",
   "execution_count": 6,
   "metadata": {},
   "outputs": [
    {
     "name": "stdout",
     "output_type": "stream",
     "text": [
      "There is a statistically significant difference in sales among different months.\n",
      "Significant pairwise comparisons:\n",
      "Monthly Budget Allocation:\n",
      "January: 0.08\n",
      "February: 0.12\n",
      "March: 0.08\n",
      "April: 0.16\n",
      "May: 0.08\n",
      "June: 0.00\n",
      "July: 0.12\n",
      "August: 0.08\n",
      "September: 0.08\n",
      "October: 0.04\n",
      "November: 0.04\n",
      "December: 0.08\n"
     ]
    }
   ],
   "source": [
    "import pandas as pd\n",
    "from scipy.stats import f_oneway\n",
    "from statsmodels.stats.multicomp import pairwise_tukeyhsd\n",
    "\n",
    "def test_and_allocate_budget(df):\n",
    "    df_temp = df.copy()\n",
    "    df_temp[\"Month\"] = df_temp[\"Order_Date\"].dt.month\n",
    "    monthly_sales = df_temp.groupby(\"Month\")[\"Total_Price\"].sum()\n",
    "    statistic, p_value = f_oneway(\n",
    "        *[group[\"Total_Price\"] for name, group in df_temp.groupby(\"Month\")]\n",
    "    )\n",
    "    alpha = 0.05\n",
    "    yearly_budget = 1\n",
    "    allocation = [1.0] * 12\n",
    "\n",
    "    def allocate_budget(significant_pairs, allocation):\n",
    "        for pair in significant_pairs:\n",
    "            month1, month2 = int(pair[0]), int(pair[1])\n",
    "            mean_diff = pair[3]\n",
    "            allocation[month1 - 1] += mean_diff / 2\n",
    "            allocation[month2 - 1] -= mean_diff / 2\n",
    "        return allocation\n",
    "\n",
    "    if p_value < alpha:\n",
    "        print(\"There is a statistically significant difference in sales among different months.\")\n",
    "        tukey_results = pairwise_tukeyhsd(df_temp[\"Total_Price\"], df_temp[\"Month\"])\n",
    "        if tukey_results.reject.any():\n",
    "            significant_pairs = tukey_results.summary().data[1:]\n",
    "            print(\"Significant pairwise comparisons:\")\n",
    "            allocation = allocate_budget(significant_pairs, allocation)\n",
    "\n",
    "        allocation = [budget * yearly_budget / sum(allocation) for budget in allocation]\n",
    "        month_names = [\n",
    "            \"January\", \"February\", \"March\", \"April\", \"May\", \"June\",\n",
    "            \"July\", \"August\", \"September\", \"October\", \"November\", \"December\"\n",
    "        ]\n",
    "        print(\"Monthly Budget Allocation:\")\n",
    "        for month, budget in zip(month_names, allocation):\n",
    "            print(f\"{month}: {budget:.2f}\")\n",
    "    else:\n",
    "        print(\"There is no statistically significant difference in sales among different months.\")\n",
    "\n",
    "# Example usage\n",
    "test_and_allocate_budget(df)\n"
   ]
  },
  {
   "cell_type": "code",
   "execution_count": null,
   "metadata": {},
   "outputs": [],
   "source": []
  }
 ],
 "metadata": {
  "kernelspec": {
   "display_name": "Python 3",
   "language": "python",
   "name": "python3"
  },
  "language_info": {
   "codemirror_mode": {
    "name": "ipython",
    "version": 3
   },
   "file_extension": ".py",
   "mimetype": "text/x-python",
   "name": "python",
   "nbconvert_exporter": "python",
   "pygments_lexer": "ipython3",
   "version": "3.10.4"
  }
 },
 "nbformat": 4,
 "nbformat_minor": 2
}
